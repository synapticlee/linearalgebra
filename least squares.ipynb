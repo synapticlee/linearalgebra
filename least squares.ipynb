{
 "cells": [
  {
   "cell_type": "code",
   "execution_count": 3,
   "metadata": {},
   "outputs": [],
   "source": [
    "import numpy as np"
   ]
  },
  {
   "cell_type": "code",
   "execution_count": 165,
   "metadata": {},
   "outputs": [
    {
     "ename": "SyntaxError",
     "evalue": "invalid syntax (<ipython-input-165-20c887d732d2>, line 20)",
     "output_type": "error",
     "traceback": [
      "\u001b[0;36m  File \u001b[0;32m\"<ipython-input-165-20c887d732d2>\"\u001b[0;36m, line \u001b[0;32m20\u001b[0m\n\u001b[0;31m    return projection, **xbar\u001b[0m\n\u001b[0m                        ^\u001b[0m\n\u001b[0;31mSyntaxError\u001b[0m\u001b[0;31m:\u001b[0m invalid syntax\n"
     ]
    }
   ],
   "source": [
    "def combineColumns(*avecs):\n",
    "    for arg in avecs:\n",
    "        if (type(arg) is not np.ndarray):\n",
    "            arg = np.array(arg)\n",
    "    Amat = np.column_stack(avecs)\n",
    "    if np.shape(Amat)[0] != np.prod(np.shape(avecs[0])):\n",
    "        raise Exception('concatenation failed')\n",
    "    else:\n",
    "        return Amat\n",
    "    \n",
    "def getProjMat(A):\n",
    "    projMat = A@(np.linalg.inv(A.T@(A)))@(A.T) #A(ATA)-1(AT)\n",
    "    if np.unique(np.shape(A)).size == 1 & np.allclose(projMat, np.identity(np.shape(A)[0])):\n",
    "        print('projection matrix is I, A is invertible so full rank, so projection stays in full dimensional space')\n",
    "    return projMat\n",
    "\n",
    "def getProj(A,b):\n",
    "    xbar = (np.linalg.inv(A.T@A)@A.T)@b\n",
    "    projection = A@xbar \n",
    "    return projection, xbar"
   ]
  },
  {
   "cell_type": "markdown",
   "metadata": {},
   "source": [
    "### Problem 1"
   ]
  },
  {
   "cell_type": "code",
   "execution_count": 8,
   "metadata": {},
   "outputs": [
    {
     "data": {
      "image/png": "[encoded data removed]",
      "text/plain": [
       "<Figure size 432x288 with 1 Axes>"
      ]
     },
     "metadata": {},
     "output_type": "display_data"
    }
   ],
   "source": [
    "y = [0,8,8,20]\n",
    "t = [0,1,3,4]\n",
    "\n",
    "import matplotlib.pyplot as plt \n",
    "plt.scatter(t,y)\n",
    "plt.show()"
   ]
  },
  {
   "cell_type": "code",
   "execution_count": 13,
   "metadata": {},
   "outputs": [],
   "source": [
    "#C + Dt\n",
    "#unknowns are D\n",
    "\n",
    "bias = np.ones(np.size(t))\n",
    "A = combineColumns(bias,t)"
   ]
  },
  {
   "cell_type": "code",
   "execution_count": 81,
   "metadata": {},
   "outputs": [
    {
     "name": "stdout",
     "output_type": "stream",
     "text": [
      "[[ 4.  8.]\n",
      " [ 8. 26.]]\n",
      "[ 36. 112.]\n"
     ]
    }
   ],
   "source": [
    "AtA = A.T@A\n",
    "print(AtA)\n",
    "\n",
    "Atb = A.T@y #shape of (2,4)*(4,1) = 2,1)\n",
    "print(Atb)\n",
    "\n",
    "assert np.shape(Atb)[0] == np.shape(A.T)[0], 'matrix multiplication did not occur correctly'"
   ]
  },
  {
   "cell_type": "code",
   "execution_count": 72,
   "metadata": {},
   "outputs": [
    {
     "name": "stdout",
     "output_type": "stream",
     "text": [
      "[1. 4.]\n",
      "[ 1.  5. 13. 17.]\n",
      "[-1.  3. -5.  3.]\n"
     ]
    }
   ],
   "source": [
    "#get projected points and errors\n",
    "littlep, xbar = getProj(A,y)\n",
    "\n",
    "print(xbar) #(1,4), correct\n",
    "\n",
    "err = y-littlep\n",
    "\n",
    "print(littlep) # (1,5,13,17), correct\n",
    "print(err)\n",
    "assert np.dot(littlep,err)==0, 'err and projection are somehow not orthogonal'"
   ]
  },
  {
   "cell_type": "code",
   "execution_count": 55,
   "metadata": {},
   "outputs": [
    {
     "data": {
      "image/png": "[encoded data removed]",
      "text/plain": [
       "<Figure size 432x288 with 1 Axes>"
      ]
     },
     "metadata": {},
     "output_type": "display_data"
    }
   ],
   "source": [
    "plt.scatter(t,y) #old points\n",
    "plt.scatter(t, littlep, c = 'm') #new projected points \n",
    "plt.plot(t, littlep, 'm') #line joining those points (for viz.)\n",
    "plt.show()"
   ]
  },
  {
   "cell_type": "code",
   "execution_count": 60,
   "metadata": {},
   "outputs": [
    {
     "name": "stdout",
     "output_type": "stream",
     "text": [
      "44.0\n"
     ]
    }
   ],
   "source": [
    "SSE = np.sum(err**2) \n",
    "print(SSE) #E = 44, correct!"
   ]
  },
  {
   "cell_type": "markdown",
   "metadata": {},
   "source": [
    "### Problem 2"
   ]
  },
  {
   "cell_type": "code",
   "execution_count": 77,
   "metadata": {},
   "outputs": [
    {
     "name": "stdout",
     "output_type": "stream",
     "text": [
      "[1. 4.]\n"
     ]
    }
   ],
   "source": [
    "foo, xbar = getProj(A,littlep)\n",
    "print(xbar) #xbar is same, exact solution because littlep (by construction) is in column space of A"
   ]
  },
  {
   "cell_type": "markdown",
   "metadata": {},
   "source": [
    "### Problem 3"
   ]
  },
  {
   "cell_type": "code",
   "execution_count": 82,
   "metadata": {},
   "outputs": [
    {
     "name": "stdout",
     "output_type": "stream",
     "text": [
      "[-1.  3. -5.  3.]\n",
      "0.0\n"
     ]
    }
   ],
   "source": [
    "e = y - littlep\n",
    "print(e)\n",
    "\n",
    "eTlittlep = e.T@littlep\n",
    "print(eTlittlep)\n",
    "assert eTlittlep==0, 'somehow err is not orth. to projection'"
   ]
  },
  {
   "cell_type": "code",
   "execution_count": 87,
   "metadata": {},
   "outputs": [
    {
     "name": "stdout",
     "output_type": "stream",
     "text": [
      "6.6332495807108\n"
     ]
    }
   ],
   "source": [
    "lenE = np.sqrt(e.T@e)\n",
    "print(lenE)\n",
    "assert np.sqrt(SSE) == lenE #sqrt(44)\n",
    "\n",
    "#SSE is literally eTe, and eTe is len(e)^2, so len(e) is sqrt(SSE)!"
   ]
  },
  {
   "cell_type": "markdown",
   "metadata": {},
   "source": [
    "### Problem 4"
   ]
  },
  {
   "cell_type": "code",
   "execution_count": 88,
   "metadata": {},
   "outputs": [],
   "source": [
    "#calculus returns the same answer for the combinations of C,D, i.e. the entries of A:\n",
    "#[4,8;8;26]"
   ]
  },
  {
   "cell_type": "markdown",
   "metadata": {},
   "source": [
    "### Problem 5"
   ]
  },
  {
   "cell_type": "code",
   "execution_count": 242,
   "metadata": {},
   "outputs": [
    {
     "name": "stdout",
     "output_type": "stream",
     "text": [
      "ATA = 4\n",
      "ATb = 36\n",
      "SSE: 204.00\n"
     ]
    },
    {
     "data": {
      "image/png": "[encoded data removed]",
      "text/plain": [
       "<Figure size 432x288 with 1 Axes>"
      ]
     },
     "metadata": {},
     "output_type": "display_data"
    }
   ],
   "source": [
    "#best *horizontal* line to fit the y's \n",
    "c = np.array([1,1,1,1])\n",
    "A = c; \n",
    "y = np.array([0,8,8,20])\n",
    "t = [0,1,3,4]\n",
    "\n",
    "print('ATA = %d' % np.int(A.T@A)) #just a scalar: 4\n",
    "print('ATb = %d' % np.int(A.T@y)) #just a scalar: 4\n",
    "\n",
    "xbar = (1/(A.T@A))*(A.T@y)\n",
    "\n",
    "err = y - A*xbar\n",
    "\n",
    "SSE = np.dot(err,err)\n",
    "print('SSE: %2.2f' % SSE)\n",
    "\n",
    "plt.scatter(t, y) \n",
    "plt.plot(t, xbar*np.ones(np.size(y)), 'm') \n",
    "for pt in range(0, np.shape(y)[0]): \n",
    "    plt.plot((t[pt], t[pt]), (y[pt], y[pt]-err[pt]), 'm--') #plot errors, yay!\n",
    "plt.show()\n",
    "\n",
    "#best zero-degree approximation (just a constant)\n",
    "\n",
    "#ahh, the more degree polynomial you allow it, the \"closer\" it can get to the actual points "
   ]
  },
  {
   "cell_type": "markdown",
   "metadata": {},
   "source": [
    "### Problem 6"
   ]
  },
  {
   "cell_type": "code",
   "execution_count": 206,
   "metadata": {},
   "outputs": [],
   "source": [
    "littlep = A*xbar #(9,9,9,9)\n",
    "assert np.dot(littlep,err)==0, 'err and projection are somehow not orthogonal'\n",
    "lenE = np.sqrt(np.dot(err,err)) #correct\n",
    "assert lenE == np.sqrt(204)"
   ]
  },
  {
   "cell_type": "markdown",
   "metadata": {},
   "source": [
    "### Problem 7"
   ]
  },
  {
   "cell_type": "code",
   "execution_count": 274,
   "metadata": {},
   "outputs": [
    {
     "name": "stdout",
     "output_type": "stream",
     "text": [
      "[0, 1, 3, 4]\n",
      "[[26]]\n",
      "[112]\n",
      "[4.30769231]\n"
     ]
    },
    {
     "data": {
      "image/png": "[encoded data removed]",
      "text/plain": [
       "<Figure size 432x288 with 1 Axes>"
      ]
     },
     "metadata": {},
     "output_type": "display_data"
    },
    {
     "name": "stdout",
     "output_type": "stream",
     "text": [
      "SSE: 45.54\n"
     ]
    }
   ],
   "source": [
    "print(t)\n",
    "A = combineColumns(t) #y is a linear function of t \n",
    "print(A.T@A) #226, correct\n",
    "print(A.T@y) #112, correct\n",
    "proj,xbar = getProj(A,y)\n",
    "\n",
    "print(xbar) \n",
    "assert np.isclose(xbar, np.int(A.T@y)/np.int(A.T@A)) #remember xbar = AtB/ATA or atb/ata in the 1-d case \n",
    "\n",
    "err = y - proj; \n",
    "\n",
    "plt.scatter(t,y)\n",
    "plt.scatter(t,proj, c = 'm')\n",
    "plt.plot(t,proj, 'm')\n",
    "for pt in range(0, np.shape(y)[0]): \n",
    "    plt.plot((t[pt], t[pt]), (y[pt], y[pt]-err[pt]), 'm--') #plot errors, yay!\n",
    "plt.show()\n",
    "\n",
    "#best 1-Degree (?) approximation - y = mx\n",
    "\n",
    "SSE = np.dot(err,err)\n",
    "print('SSE: %2.2f' % SSE) #less SSE! yay! (of course)"
   ]
  },
  {
   "cell_type": "markdown",
   "metadata": {},
   "source": [
    "### Problem 8"
   ]
  },
  {
   "cell_type": "code",
   "execution_count": 266,
   "metadata": {},
   "outputs": [
    {
     "data": {
      "text/plain": [
       "array([4.30769231])"
      ]
     },
     "execution_count": 266,
     "metadata": {},
     "output_type": "execute_result"
    }
   ],
   "source": [
    "#very similar..?\n"
   ]
  },
  {
   "cell_type": "markdown",
   "metadata": {},
   "source": [
    "### Problem 9"
   ]
  },
  {
   "cell_type": "code",
   "execution_count": 282,
   "metadata": {},
   "outputs": [
    {
     "name": "stdout",
     "output_type": "stream",
     "text": [
      "[ 2.  4. 12. 18.]\n",
      "[ 36. 112. 400.]\n"
     ]
    },
    {
     "data": {
      "image/png": "[encoded data removed]",
      "text/plain": [
       "<Figure size 432x288 with 1 Axes>"
      ]
     },
     "metadata": {},
     "output_type": "display_data"
    }
   ],
   "source": [
    "# y = C + Dt + Et^2\n",
    "bias = [1,1,1,1]\n",
    "t = np.array([0,1,3,4])\n",
    "A = combineColumns(bias,t,t**2) #Vandemonde matrix\n",
    "y = np.array([0,8,8,20])\n",
    "proj,xbar = getProj(A,y)\n",
    "print(proj)\n",
    "print(A.T@A@xbar) #check! \n",
    "plt.scatter(t,y)\n",
    "plt.scatter(t,proj, c='m')\n",
    "plt.show()"
   ]
  },
  {
   "cell_type": "markdown",
   "metadata": {},
   "source": [
    "### Problem 10"
   ]
  },
  {
   "cell_type": "code",
   "execution_count": 289,
   "metadata": {},
   "outputs": [
    {
     "data": {
      "text/plain": [
       "array([[ 1,  0,  0,  0],\n",
       "       [ 1,  1,  1,  1],\n",
       "       [ 1,  3,  9,  9],\n",
       "       [ 1,  4, 16, 16]])"
      ]
     },
     "execution_count": 289,
     "metadata": {},
     "output_type": "execute_result"
    }
   ],
   "source": [
    "# y = C + Dt + Et^2 + Ft^3\n",
    "bias = [1,1,1,1]\n",
    "t = np.array([0,1,3,4])\n",
    "A = combineColumns(bias,t,t**2, t**2) #Vandemonde matrix\n",
    "A #use elimination"
   ]
  },
  {
   "cell_type": "markdown",
   "metadata": {},
   "source": [
    "### Problem 11"
   ]
  },
  {
   "cell_type": "code",
   "execution_count": 311,
   "metadata": {},
   "outputs": [
    {
     "data": {
      "image/png": "[encoded data removed]",
      "text/plain": [
       "<Figure size 432x288 with 1 Axes>"
      ]
     },
     "metadata": {},
     "output_type": "display_data"
    }
   ],
   "source": [
    "t = np.array([0,1,3,4])\n",
    "bias = np.ones(np.size(t))\n",
    "y = np.array([0,8,8,20])\n",
    "A = combineColumns(bias, t) #y is a linear function of t, that may have a constant bias\n",
    "proj,xbar = getProj(A,y)\n",
    "\n",
    "plt.scatter(t,y)\n",
    "plt.scatter(t,proj, c = 'm')\n",
    "plt.plot(t,proj, 'm')\n",
    "plt.scatter(2,9, 100, 'k','+') #average of t's and y's, does indeed lie on the line of best fit \n",
    "plt.show()"
   ]
  },
  {
   "cell_type": "markdown",
   "metadata": {},
   "source": [
    "### Problem 12"
   ]
  },
  {
   "cell_type": "code",
   "execution_count": 327,
   "metadata": {},
   "outputs": [
    {
     "name": "stdout",
     "output_type": "stream",
     "text": [
      "[-1.  3. -5.  3.]\n",
      "44.0\n",
      "6.6332495807108\n"
     ]
    }
   ],
   "source": [
    "err = y - proj\n",
    "print(err)\n",
    "print(np.dot(err,err)) #(len^2)/2 = var\n",
    "print(np.sqrt(np.dot(err,err))) #(len^2)/n = std?"
   ]
  },
  {
   "cell_type": "code",
   "execution_count": 348,
   "metadata": {},
   "outputs": [
    {
     "name": "stdout",
     "output_type": "stream",
     "text": [
      "[-2 -1  3]\n"
     ]
    }
   ],
   "source": [
    "p = np.array([3,3,3])\n",
    "b = np.array([1,2,6])\n",
    "e = b-p\n",
    "print(e)"
   ]
  }
 ],
 "metadata": {
  "kernelspec": {
   "display_name": "Python 3",
   "language": "python",
   "name": "python3"
  },
  "language_info": {
   "codemirror_mode": {
    "name": "ipython",
    "version": 3
   },
   "file_extension": ".py",
   "mimetype": "text/x-python",
   "name": "python",
   "nbconvert_exporter": "python",
   "pygments_lexer": "ipython3",
   "version": "3.6.4"
  }
 },
 "nbformat": 4,
 "nbformat_minor": 2
}
