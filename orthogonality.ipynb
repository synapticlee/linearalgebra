{
 "cells": [
  {
   "cell_type": "markdown",
   "metadata": {},
   "source": [
    "## Problem set 4.4 (p 242)"
   ]
  },
  {
   "cell_type": "code",
   "execution_count": 2,
   "metadata": {},
   "outputs": [],
   "source": [
    "import numpy as np"
   ]
  },
  {
   "cell_type": "code",
   "execution_count": 3,
   "metadata": {},
   "outputs": [],
   "source": [
    "def getProjMat(a):\n",
    "    if (type(a) is not np.ndarray):\n",
    "        a = np.array(a)\n",
    "    aat = np.outer(a,a)\n",
    "    ata = np.dot(a,a)\n",
    "    bigp = aat/ata\n",
    "    return bigp"
   ]
  },
  {
   "cell_type": "code",
   "execution_count": 4,
   "metadata": {},
   "outputs": [],
   "source": [
    "def getProjection(b,a): #b onto a\n",
    "    if (type(a) is not np.ndarray):\n",
    "        a = np.array(a)\n",
    "    if (type(b) is not np.ndarray):\n",
    "        b = np.array(b)\n",
    "    ata = np.dot(a,a)\n",
    "    atb = np.dot(a,b)\n",
    "    x = atb/ata\n",
    "    littlep = x*a\n",
    "    return littlep"
   ]
  },
  {
   "cell_type": "code",
   "execution_count": 5,
   "metadata": {},
   "outputs": [],
   "source": [
    "def normVecs(*vecs):\n",
    "    orthvecs = []\n",
    "    for ii in range(0,len(vecs)):\n",
    "        if type(vecs[ii] is not np.ndarray):\n",
    "            vec = np.array(vecs[ii])\n",
    "        orthvecs.append(vec / np.sqrt(np.dot(vec,vec)))\n",
    "        assert np.dot(orthvecs[ii],orthvecs[ii])==1, 'vectors are not unit length'\n",
    "    return orthvecs "
   ]
  },
  {
   "cell_type": "code",
   "execution_count": 6,
   "metadata": {},
   "outputs": [],
   "source": [
    "def joinVecs(*qvecs):\n",
    "    Qmat = np.column_stack(qvecs)\n",
    "    if np.shape(Qmat)[0] != np.prod(np.shape(qvecs[0])):\n",
    "        raise Exception('concatenation failed')\n",
    "    else:\n",
    "        return Qmat"
   ]
  },
  {
   "cell_type": "code",
   "execution_count": 8,
   "metadata": {},
   "outputs": [],
   "source": [
    "#note! python range does not include end... \n",
    "\n",
    "def gs(*inputs): #tested only for two vectors so far\n",
    "    vecs = []\n",
    "    for vv in range(0,len(inputs)):\n",
    "        vecs.append(np.array(inputs[vv]))\n",
    "    qvecs = []\n",
    "    qvecs.append(vecs[0])\n",
    "    for ii in range(1,len(vecs)): #starting from second vector i.e. index 1\n",
    "        qitr = vecs[ii]\n",
    "        \n",
    "        for jj in range(0,ii):            \n",
    "            qitr = qitr - (getProjection(vecs[ii],qvecs[jj])) #q = b - p = b - xa\n",
    "            \n",
    "            assert np.isclose(np.dot(qitr,qvecs[jj]),0), 'vectors are not orthogonal'\n",
    "        qvecs.append(qitr)\n",
    "        \n",
    "    for qq in range(0,len(qvecs)): #schmidt!\n",
    "        qvecs[qq] = qvecs[qq] / np.sqrt(np.dot(qvecs[qq],qvecs[qq]))\n",
    "    return qvecs"
   ]
  },
  {
   "cell_type": "markdown",
   "metadata": {},
   "source": [
    "### Problem 11"
   ]
  },
  {
   "cell_type": "code",
   "execution_count": 5,
   "metadata": {},
   "outputs": [],
   "source": [
    "a = np.array([1,3,4,5,7])\n",
    "b = np.array([-6,6,8,0,8])\n",
    "q1 = a\n",
    "p = getProjection(b,q1)"
   ]
  },
  {
   "cell_type": "code",
   "execution_count": 6,
   "metadata": {},
   "outputs": [
    {
     "name": "stdout",
     "output_type": "stream",
     "text": [
      "[-7.  3.  4. -5.  1.]\n"
     ]
    }
   ],
   "source": [
    "e = b-p\n",
    "print(e)\n",
    "\n",
    "q2 = e\n",
    "\n",
    "assert np.dot(q1,q2) == 0, 'vectors are not orthogonal'"
   ]
  },
  {
   "cell_type": "code",
   "execution_count": 9,
   "metadata": {},
   "outputs": [
    {
     "data": {
      "text/plain": [
       "array([1., 3., 4., 5., 7.])"
      ]
     },
     "execution_count": 9,
     "metadata": {},
     "output_type": "execute_result"
    }
   ],
   "source": [
    "#normalize to unit length\n",
    "orthonormalvecs = normVecs(q1,q2)\n",
    "orthonormalvecs[0]*10 #correct! [1,3,4,5,7]*(1/10)"
   ]
  },
  {
   "cell_type": "markdown",
   "metadata": {},
   "source": [
    "### Problem 15 "
   ]
  },
  {
   "cell_type": "code",
   "execution_count": 10,
   "metadata": {},
   "outputs": [
    {
     "name": "stdout",
     "output_type": "stream",
     "text": [
      "[[ 1  1]\n",
      " [ 2 -1]\n",
      " [-2  4]]\n"
     ]
    }
   ],
   "source": [
    "A = np.array([[1,1],[2,-1],[-2,4]])\n",
    "print(A)"
   ]
  },
  {
   "cell_type": "code",
   "execution_count": 17,
   "metadata": {},
   "outputs": [
    {
     "name": "stdout",
     "output_type": "stream",
     "text": [
      "[ 1  2 -2]\n",
      "[2. 1. 2.]\n",
      "[array([ 0.33333333,  0.66666667, -0.66666667]), array([0.66666667, 0.33333333, 0.66666667])]\n"
     ]
    },
    {
     "data": {
      "text/plain": [
       "1.0"
      ]
     },
     "execution_count": 17,
     "metadata": {},
     "output_type": "execute_result"
    }
   ],
   "source": [
    "q1 = A[:,0]\n",
    "p = getProjection(A[:,1],q1)\n",
    "q2 = A[:,1]-p\n",
    "print(q1)\n",
    "print(q2)\n",
    "\n",
    "orthvecs = normVecs(q1,q2)\n",
    "print(orthvecs)\n",
    "np.dot(orthvecs[1],orthvecs[1])"
   ]
  },
  {
   "cell_type": "code",
   "execution_count": 35,
   "metadata": {},
   "outputs": [
    {
     "name": "stdout",
     "output_type": "stream",
     "text": [
      "[-0.66666667  0.66666667  0.33333333]\n",
      "[[ 1.  2.]\n",
      " [ 2.  1.]\n",
      " [-2.  2.]]\n"
     ]
    }
   ],
   "source": [
    "c = np.ones(np.shape(q2))\n",
    "\n",
    "cprojq1 = getProjection(c,q1)\n",
    "cprojq2 = getProjection(c,q2)\n",
    "\n",
    "q3 = c - cprojq1 - cprojq2\n",
    "\n",
    "q3 = q3 / np.sqrt(np.dot(q3,q3))\n",
    "\n",
    "print(q3)\n",
    "\n",
    "#q3 should be in null space of A^T (orthogonal to column space)\n",
    "\n",
    "Q = joinVecs(q1,q2)\n",
    "print(Q)"
   ]
  },
  {
   "cell_type": "code",
   "execution_count": 66,
   "metadata": {},
   "outputs": [
    {
     "name": "stdout",
     "output_type": "stream",
     "text": [
      "[ 1.  2. -2.]\n",
      "[2. 1. 2.]\n",
      "[-2.  2.  1.]\n"
     ]
    }
   ],
   "source": [
    "print(orthvecs[0]*3) #1,2,-2\n",
    "print(orthvecs[1]*3) #2,1,2\n",
    "\n",
    "print(q3*3) #correct (two valid answers)\n",
    "#basically the same vector, just negative version, as answer (deg = 180)\n",
    "#from math import acos, degrees\n",
    "#degrees(acos(np.dot(q3, np.array([2,-2,-1])/3))) "
   ]
  },
  {
   "cell_type": "code",
   "execution_count": 70,
   "metadata": {},
   "outputs": [
    {
     "name": "stdout",
     "output_type": "stream",
     "text": [
      "[[ 9. -9.]\n",
      " [ 0.  9.]]\n",
      "[[  9.   9.]\n",
      " [ 18.  -9.]\n",
      " [-18.  36.]]\n"
     ]
    }
   ],
   "source": [
    "#this should work but doesn't..?\n",
    "R = Q.T@A\n",
    "print(R)\n",
    "QR = Q@R\n",
    "print(QR)"
   ]
  },
  {
   "cell_type": "code",
   "execution_count": 73,
   "metadata": {},
   "outputs": [
    {
     "name": "stdout",
     "output_type": "stream",
     "text": [
      "[1. 2.]\n"
     ]
    }
   ],
   "source": [
    "y = np.array([1,2,7])\n",
    "x = ((np.linalg.inv(A.T@A))@A.T)@y #solving least squares\n",
    "print(x) #1,2"
   ]
  },
  {
   "cell_type": "markdown",
   "metadata": {},
   "source": [
    "### Problem 16"
   ]
  },
  {
   "cell_type": "code",
   "execution_count": 94,
   "metadata": {},
   "outputs": [
    {
     "name": "stdout",
     "output_type": "stream",
     "text": [
      "0.2857142857142857\n",
      "[4. 5. 2. 2.]\n",
      "[-1.  4. -4. -4.]\n"
     ]
    }
   ],
   "source": [
    "#to get multiple \"x\" of a which is closest to b, do, atb/ata\n",
    "a = np.array([4,5,2,2])\n",
    "b = np.array([1,2,0,0])\n",
    "x = (np.dot(a,b))/(np.dot(a,a))\n",
    "print(x) #2/7, correct\n",
    "       \n",
    "q1 = a\n",
    "p = x*a\n",
    "q2 = b - p\n",
    "\n",
    "assert np.isclose(np.dot(q1,q2),0), 'vectors are not orthogonal'\n",
    "\n",
    "q1 = q1 / np.sqrt(np.dot(q1,q1))\n",
    "q2 = q2 / np.sqrt(np.dot(q2,q2))\n",
    "\n",
    "assert (np.dot(q1,q1) == 1) & (np.dot(q2,q2) == 1), 'vectors are not unit length'\n",
    "\n",
    "print(q1*7) #4,5,2,2\n",
    "print(q2*7) #-1,4,-4,-4"
   ]
  },
  {
   "cell_type": "markdown",
   "metadata": {},
   "source": [
    "### Problem 17"
   ]
  },
  {
   "cell_type": "code",
   "execution_count": 111,
   "metadata": {},
   "outputs": [
    {
     "name": "stdout",
     "output_type": "stream",
     "text": [
      "[3. 3. 3.]\n",
      "[-2.  0.  2.]\n",
      "\n",
      "[0.57735027 0.57735027 0.57735027]\n",
      "[-0.70710678  0.          0.70710678]\n"
     ]
    }
   ],
   "source": [
    "a = [1,1,1]\n",
    "b = [1,3,5]\n",
    "\n",
    "p = getProjection(b,a) #p = xa where x = atb/ata\n",
    "print(p) #3,3,3\n",
    "\n",
    "e = b-p\n",
    "print(e) #-2,0,2\n",
    "\n",
    "print('')\n",
    "\n",
    "q1 = a/np.sqrt(np.dot(a,a))\n",
    "print(q1)\n",
    "assert(np.allclose(q1, np.ones([1,3])/np.sqrt(3))) #pretty close\n",
    "\n",
    "\n",
    "q2 = e/np.sqrt(np.dot(e,e))\n",
    "print(q2)\n",
    "assert np.allclose(q2, np.array([-1,0,1])/np.sqrt(2)) #pretty close"
   ]
  },
  {
   "cell_type": "markdown",
   "metadata": {},
   "source": [
    "### Problem 18"
   ]
  },
  {
   "cell_type": "code",
   "execution_count": 183,
   "metadata": {},
   "outputs": [],
   "source": [
    "a = np.array([1, -1, 0,0])\n",
    "b = np.array([0,1,-1,0])\n",
    "c = [0,0,1,-1]"
   ]
  },
  {
   "cell_type": "code",
   "execution_count": 149,
   "metadata": {},
   "outputs": [],
   "source": [
    "#debugging - seems to check out\n",
    "if False: \n",
    "    vecs = [a,b]\n",
    "    print(vecs)\n",
    "    q = []\n",
    "    q.append(vecs[0])\n",
    "    print(q)\n",
    "\n",
    "    qitr = vecs[1]\n",
    "    p = getProjection(vecs[1],q[0])\n",
    "    print(p)\n",
    "    qitr = qitr - p\n",
    "    print(qitr)\n",
    "    np.dot(qitr,q[0])\n",
    "\n",
    "    q.append(qitr)\n",
    "    print(q)"
   ]
  },
  {
   "cell_type": "code",
   "execution_count": 220,
   "metadata": {},
   "outputs": [
    {
     "name": "stdout",
     "output_type": "stream",
     "text": [
      "[ 1 -1  0  0]\n",
      "[ 0.5  0.5 -1.   0. ]\n",
      "[ 0.33333333  0.33333333  0.33333333 -1.        ]\n"
     ]
    }
   ],
   "source": [
    "q = gs(a,b,c) #wow surprisingly works out of the box..\n",
    "print(q[0]) #1,-1,0,0\n",
    "print(q[1]) #0.5, 0.5, -1, 0\n",
    "print(q[2]) #1/3,1/3,1/3,-1\n",
    "\n",
    "d = np.array([1,1,1,1]) #all orthogonal to this guy"
   ]
  },
  {
   "cell_type": "markdown",
   "metadata": {},
   "source": [
    "<img src=\"https://i.imgur.com/yOiiYRU.png\">"
   ]
  },
  {
   "cell_type": "markdown",
   "metadata": {},
   "source": [
    "### Problem 19"
   ]
  },
  {
   "cell_type": "code",
   "execution_count": 249,
   "metadata": {},
   "outputs": [
    {
     "name": "stdout",
     "output_type": "stream",
     "text": [
      "[[-1  1]\n",
      " [ 2  1]\n",
      " [ 2  4]]\n",
      "[[-1.  2.]\n",
      " [ 2. -1.]\n",
      " [ 2.  2.]]\n",
      "[[3. 3.]\n",
      " [0. 3.]]\n"
     ]
    }
   ],
   "source": [
    "A = np.array([[-1,1],[2,1],[2,4]])\n",
    "np.shape(A)\n",
    "q = gs(A[:,0],A[:,1])\n",
    "Q = joinVecs(q[0],q[1])\n",
    "print(A)\n",
    "\n",
    "print(Q*3) #correct\n",
    "\n",
    "R = Q.T@A\n",
    "\n",
    "print(R) #correct\n",
    "\n",
    "#squared diagonals of R, are the pivots of ATA;\n",
    "#because RTR is the product of upper and lower triangular matrices, i.e. the diagonal gets multiplied twice "
   ]
  },
  {
   "cell_type": "markdown",
   "metadata": {},
   "source": [
    "### Problem 21"
   ]
  },
  {
   "cell_type": "code",
   "execution_count": 289,
   "metadata": {},
   "outputs": [
    {
     "name": "stdout",
     "output_type": "stream",
     "text": [
      "[[ 0.5        -0.69337525]\n",
      " [ 0.5        -0.13867505]\n",
      " [ 0.5         0.13867505]\n",
      " [ 0.5         0.69337525]]\n",
      "[-3.5 -1.5 -0.5  1.5]\n"
     ]
    }
   ],
   "source": [
    "a1 = [1,1,1,1]\n",
    "a2 = [-2,0,1,3]\n",
    "A = joinVecs(a1,a2)\n",
    "\n",
    "q = gs(a1,a2)\n",
    "Q = joinVecs(q[0],q[1])\n",
    "\n",
    "print(Q) #correct\n",
    "\n",
    "b = [-4,-3,3,0]\n",
    "\n",
    "projb = (Q@Q.T)@b \n",
    "\n",
    "print(projb) #correct, [-3.5,-1.5,-0.5,1.5]"
   ]
  },
  {
   "cell_type": "markdown",
   "metadata": {},
   "source": [
    "### Problem 22"
   ]
  },
  {
   "cell_type": "code",
   "execution_count": 14,
   "metadata": {},
   "outputs": [
    {
     "name": "stdout",
     "output_type": "stream",
     "text": [
      "[1 1 2] [ 1. -1.  0.] [-1. -1.  1.]\n"
     ]
    }
   ],
   "source": [
    "#find *orthogonal* vectors only\n",
    "a = np.array([1,1,2])\n",
    "b = np.array([1,-1,0])\n",
    "c = np.array([1,0,4])\n",
    "\n",
    "q1 = a\n",
    "q2 = b - getProjection(b,q1)\n",
    "q3 = c - getProjection(c,q2) - getProjection(c,q1)\n",
    "\n",
    "print(q1,q2,q3) #correct!"
   ]
  },
  {
   "cell_type": "markdown",
   "metadata": {},
   "source": [
    "### Problem 31"
   ]
  },
  {
   "cell_type": "code",
   "execution_count": 51,
   "metadata": {},
   "outputs": [
    {
     "name": "stdout",
     "output_type": "stream",
     "text": [
      "[[ 0.5 -0.5 -0.5 -0.5]\n",
      " [-0.5  0.5 -0.5 -0.5]\n",
      " [-0.5 -0.5  0.5 -0.5]\n",
      " [-0.5 -0.5 -0.5  0.5]]\n",
      "[-0.5  0.5  0.5  0.5]\n",
      "[0. 0. 1. 1.]\n",
      "[0. 0. 1. 1.]\n"
     ]
    }
   ],
   "source": [
    "Q = joinVecs([1, -1,-1,-1],[-1,1,-1,-1],[-1,-1,1,-1],[-1,-1,-1,1])/2\n",
    "print(Q)\n",
    "\n",
    "b = [1,1,1,1]\n",
    "\n",
    "bq1 = getProjection(b,Q[:,0])\n",
    "print(bq1) #180 on other side of q1 - correct (-0.5, -0.5, -0.5, 0.5)\n",
    "\n",
    "A = Q[:,0:2]\n",
    "\n",
    "bq2 = (A@(np.linalg.inv(A.T@A))@A.T)@b\n",
    "print(bq2) #correct (0,0,1,1)\n",
    "\n",
    "#alternatively, from answers, add:\n",
    "bq2 = bq1 + getProjection(b,Q[:,1])\n",
    "print(bq2)"
   ]
  },
  {
   "cell_type": "markdown",
   "metadata": {},
   "source": [
    "### Problem 32"
   ]
  },
  {
   "cell_type": "code",
   "execution_count": 63,
   "metadata": {},
   "outputs": [
    {
     "name": "stdout",
     "output_type": "stream",
     "text": [
      "[[0 0]\n",
      " [0 1]]\n",
      "[[ 1.  0.]\n",
      " [ 0. -1.]]\n",
      "[[0.  0.  0. ]\n",
      " [0.  0.5 0.5]\n",
      " [0.  0.5 0.5]]\n",
      "[[ 1.  0.  0.]\n",
      " [ 0. -0. -1.]\n",
      " [ 0. -1. -0.]]\n"
     ]
    },
    {
     "data": {
      "text/plain": [
       "array([ 1., -1., -1.])"
      ]
     },
     "execution_count": 63,
     "metadata": {},
     "output_type": "execute_result"
    }
   ],
   "source": [
    "u1 = np.array([0,1])\n",
    "uut1 = np.outer(u1,u1)\n",
    "print(uut1)\n",
    "\n",
    "Q1 = np.eye(np.shape(u1)[0]) - 2*(uut1)\n",
    "print(Q1) #reflection matrix - flips across x-axis (i.e. y-values flip sign)\n",
    "\n",
    "u2 = np.array([0, np.sqrt(2)/2,np.sqrt(2)/2])\n",
    "uut2 = np.outer(u2,u2)\n",
    "print(uut2)\n",
    "\n",
    "Q2 = np.eye(np.shape(u2)[0]) - 2*(uut2)\n",
    "print(np.round(Q2,2)) #reflection matrix - rotates whole space around x-axis \n",
    "\n",
    "Q1@np.array([1,2]) #flip y-coordinate\n",
    "\n",
    "Q2@np.array([1,1,1]) #flip y and z coordinates "
   ]
  }
 ],
 "metadata": {
  "kernelspec": {
   "display_name": "Python 3",
   "language": "python",
   "name": "python3"
  },
  "language_info": {
   "codemirror_mode": {
    "name": "ipython",
    "version": 3
   },
   "file_extension": ".py",
   "mimetype": "text/x-python",
   "name": "python",
   "nbconvert_exporter": "python",
   "pygments_lexer": "ipython3",
   "version": "3.6.4"
  }
 },
 "nbformat": 4,
 "nbformat_minor": 2
}
