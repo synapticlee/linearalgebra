{
 "cells": [
  {
   "cell_type": "markdown",
   "metadata": {},
   "source": [
    "## Problem set 4.2 Linear Algebra 5th Edition by Strang"
   ]
  },
  {
   "cell_type": "code",
   "execution_count": null,
   "metadata": {},
   "outputs": [],
   "source": [
    "#in 1-D case, \n",
    "#makes use of p = x*a;\n",
    "#x = aTb/aTa\n",
    "#whereas projection matrix P = aaT/aTa\n",
    "#so that Pb = projection of b onto a "
   ]
  },
  {
   "cell_type": "code",
   "execution_count": null,
   "metadata": {},
   "outputs": [],
   "source": [
    "import numpy as np\n",
    "from math import acos,degrees\n",
    "\n",
    "import matplotlib.pyplot as plt "
   ]
  },
  {
   "cell_type": "code",
   "execution_count": null,
   "metadata": {},
   "outputs": [],
   "source": [
    "def getProjMat(a):\n",
    "    aat = np.outer(a,a)\n",
    "    ata = np.dot(a,a)\n",
    "    bigp = aat/ata\n",
    "    return bigp\n",
    "\n",
    "def get1dProjection(b,a, *doPrintProj):\n",
    "    if (type(a) is not np.ndarray):\n",
    "        a = np.array(a)\n",
    "    if (type(b) is not np.ndarray):\n",
    "        b = np.array(b)    \n",
    "        \n",
    "    ata = np.dot(a,a)\n",
    "    atb = np.dot(a,b)\n",
    "    x = atb/ata\n",
    "    littlep = x*a\n",
    "    \n",
    "    if doPrintProj:\n",
    "        print(littlep)\n",
    "    e = b-littlep\n",
    "    eta = np.dot(e,a)\n",
    "    \n",
    "    if eta > 1e-15:\n",
    "        print(eta)\n",
    "        raise Exception('a is somehow not orthogonal to e')\n",
    "    else:\n",
    "        print('a is indeed orthogonal to e. yay!')\n",
    "\n",
    "    if np.array_equal(littlep,b):\n",
    "        theta = getTheta(a,b)\n",
    "        if np.isin(theta,[0, 180]):\n",
    "            print('the two vectors are collinear (angle is 0 or 180 deg). projection did not change the input')\n",
    "        \n",
    "    return littlep\n",
    "\n",
    "def getTheta(a,b):\n",
    "    theta = math.degrees(math.acos(np.dot(a,b)/(np.linalg.norm(a)*np.linalg.norm(b))))\n",
    "    return theta\n",
    "\n",
    "def checkP2(projmat):\n",
    "    if np.allclose(projmat, projmat@projmat,1e-10000000):\n",
    "        print('all good, P=P^2 (by a tiny tolerance)')\n",
    "    else:\n",
    "        print('not a projection matrix, P=/=P^2')\n",
    "        print(projmat)\n",
    "        print(projmat@projmat)\n",
    "        \n",
    "def getAmat(*avecs):\n",
    "    Amat = np.column_stack(avecs)\n",
    "    if np.shape(Amat)[0] != np.prod(np.shape(avecs[0])):\n",
    "        raise Exception('concatenation failed')\n",
    "    else:\n",
    "        return Amat"
   ]
  },
  {
   "cell_type": "code",
   "execution_count": null,
   "metadata": {},
   "outputs": [],
   "source": [
    "def getNdProjMat(A):\n",
    "    #find basis for A\n",
    "#    basis = getBasis(A)\n",
    "    projMat = A@(np.linalg.inv(A.T@(A)))@(A.T) #A(ATA)-1(AT)\n",
    "    if np.unique(np.shape(A)).size == 1 & np.allclose(projMat, np.identity(np.shape(A)[0])):\n",
    "        print('projection matrix is I, A is invertible so full rank, so projection stays in full dimensional space')\n",
    "    return projMat\n",
    "\n",
    "\n",
    "def getBasis(A):\n",
    "    \n",
    "    #row reduction??\n",
    "    return basis"
   ]
  },
  {
   "cell_type": "code",
   "execution_count": null,
   "metadata": {},
   "outputs": [],
   "source": [
    "#project b onto a\n",
    "a = np.array([1,1,1]) \n",
    "b = np.array([1,2,2])"
   ]
  },
  {
   "cell_type": "code",
   "execution_count": null,
   "metadata": {},
   "outputs": [],
   "source": [
    "#get their respective inner products (both just a number)\n",
    "ata = np.dot(a,a) \n",
    "atb = np.dot(a,b) #angle between a and b, proj = 0 if atb = 0 i.e. if a and b are orthogonal"
   ]
  },
  {
   "cell_type": "code",
   "execution_count": null,
   "metadata": {},
   "outputs": [],
   "source": [
    "x = atb/ata #multiple of a (i.e. the length of the projected line)\n",
    "x"
   ]
  },
  {
   "cell_type": "code",
   "execution_count": null,
   "metadata": {},
   "outputs": [],
   "source": [
    "p = x*a #scale a by the multiple in order to get the actual point closest to a\n",
    "p"
   ]
  },
  {
   "cell_type": "code",
   "execution_count": null,
   "metadata": {},
   "outputs": [],
   "source": [
    "e = b-p #vector of projection of b onto a\n",
    "e"
   ]
  },
  {
   "cell_type": "code",
   "execution_count": null,
   "metadata": {},
   "outputs": [],
   "source": [
    "#check that eTa is 0 (i.e. they are orthogonal, as they should always be)\n",
    "eta = np.dot(e,a)\n",
    "eta < 1e-100 #level of tolerance, computer precision too good.."
   ]
  },
  {
   "cell_type": "code",
   "execution_count": null,
   "metadata": {},
   "outputs": [],
   "source": []
  },
  {
   "cell_type": "code",
   "execution_count": null,
   "metadata": {},
   "outputs": [],
   "source": [
    "b = [1,2,2]\n",
    "a = [1,1,1]\n",
    "proj, projmat = get1dProjection(b,a,True)\n"
   ]
  },
  {
   "cell_type": "code",
   "execution_count": null,
   "metadata": {},
   "outputs": [],
   "source": [
    "b = [1,3,1]\n",
    "a = [-1,-3,-1]\n",
    "proj, projmat = get1dProjection(b,a)"
   ]
  },
  {
   "cell_type": "code",
   "execution_count": null,
   "metadata": {},
   "outputs": [],
   "source": [
    "b1 = [1,2,2]\n",
    "a1 = [1,1,1]\n",
    "foo, bigp1 = get1dProjection(b1,a1)\n",
    "b2 = [1,3,1]\n",
    "a2 = [-1,-3,-1]\n",
    "foo, bigp2 = get1dProjection(b2,a2)"
   ]
  },
  {
   "cell_type": "code",
   "execution_count": null,
   "metadata": {},
   "outputs": [],
   "source": [
    "pplusp = bigp1+bigp2\n",
    "checkP2(pplusp)"
   ]
  },
  {
   "cell_type": "code",
   "execution_count": null,
   "metadata": {},
   "outputs": [],
   "source": [
    "a1 = [-1,2,2]\n",
    "foo, bigp1 = get1dProjection(b1,a1)"
   ]
  },
  {
   "cell_type": "code",
   "execution_count": null,
   "metadata": {},
   "outputs": [],
   "source": [
    "a = [1,2,1]\n",
    "b = [1,1,1]"
   ]
  },
  {
   "cell_type": "code",
   "execution_count": null,
   "metadata": {},
   "outputs": [],
   "source": [
    "a1 = [-1, 2, 2]\n",
    "bigp1 = getProjMat(a1)"
   ]
  },
  {
   "cell_type": "code",
   "execution_count": null,
   "metadata": {},
   "outputs": [],
   "source": [
    "a2 = [2,2,-1]\n",
    "bigp2 = getProjMat(a2)"
   ]
  },
  {
   "cell_type": "code",
   "execution_count": null,
   "metadata": {},
   "outputs": [],
   "source": [
    "if np.allclose(bigp1@bigp2, np.zeros(np.shape(bigp1))):\n",
    "    print('P1*P2 = zero matrix')\n",
    "if np.isclose(np.dot(a1,a2),0):\n",
    "    print('inputs are orthogonal')"
   ]
  },
  {
   "cell_type": "code",
   "execution_count": null,
   "metadata": {},
   "outputs": [],
   "source": [
    "b = [1,0,0]\n",
    "p1 = get1dProjection(b,a1)\n",
    "p2 = get1dProjection(b,a2)\n",
    "a3 = [2,-1,2]\n",
    "p3 = get1dProjection(b,a3)"
   ]
  },
  {
   "cell_type": "code",
   "execution_count": null,
   "metadata": {},
   "outputs": [],
   "source": [
    "print(p1)\n",
    "print(p2)\n",
    "print(p3)\n",
    "\n",
    "if np.allclose(b,p1+p2+p3):\n",
    "    print('chain of projections returned to original vector')"
   ]
  },
  {
   "cell_type": "code",
   "execution_count": null,
   "metadata": {},
   "outputs": [],
   "source": [
    "bigp3 = getProjMat(a3)"
   ]
  },
  {
   "cell_type": "code",
   "execution_count": null,
   "metadata": {},
   "outputs": [],
   "source": [
    "if np.allclose(bigp1+bigp2+bigp3,np.identity(np.shape(bigp3)[0])):\n",
    "    print('sum of projection matrices is the identity')"
   ]
  },
  {
   "cell_type": "code",
   "execution_count": null,
   "metadata": {},
   "outputs": [],
   "source": [
    "if np.dot(a1,a2) == np.dot(a2,a3) == np.dot(a1,a3) == 0:\n",
    "    print('these three vectors are pairwise perpendicular')\n",
    "    \n",
    "getAmat(a1,a2,a3)"
   ]
  },
  {
   "cell_type": "code",
   "execution_count": null,
   "metadata": {},
   "outputs": [],
   "source": [
    "b = [1,1]\n",
    "a1 = [1,0]\n",
    "p1 = get1dProjection(b,a1)"
   ]
  },
  {
   "cell_type": "code",
   "execution_count": null,
   "metadata": {},
   "outputs": [],
   "source": [
    "a2 = [1,2]\n",
    "p2 = get1dProjection(b,a2)"
   ]
  },
  {
   "cell_type": "code",
   "execution_count": null,
   "metadata": {},
   "outputs": [],
   "source": [
    "if not np.allclose(p1+p2,b): \n",
    "    print('sum of projections on b do not return to b (as expected in this problem)')"
   ]
  },
  {
   "cell_type": "code",
   "execution_count": null,
   "metadata": {},
   "outputs": [],
   "source": [
    "origin = [0], [0] # origin point\n",
    "plt.quiver(*origin, p1,p2)\n",
    "plt.show()"
   ]
  },
  {
   "cell_type": "code",
   "execution_count": null,
   "metadata": {},
   "outputs": [],
   "source": [
    "theta = getTheta(a1,a2) #angle between a1 and a2 - they are not orthogonal \n",
    "if np.dot(a1,a2)!= 0 & ~np.isclose(theta,90):\n",
    "    print('vectors are not orthogonal (as expected in this problem)')"
   ]
  },
  {
   "cell_type": "code",
   "execution_count": null,
   "metadata": {},
   "outputs": [],
   "source": []
  },
  {
   "cell_type": "code",
   "execution_count": null,
   "metadata": {},
   "outputs": [],
   "source": []
  },
  {
   "cell_type": "code",
   "execution_count": null,
   "metadata": {},
   "outputs": [],
   "source": [
    "getProjMat(a2)*a1"
   ]
  },
  {
   "cell_type": "code",
   "execution_count": null,
   "metadata": {},
   "outputs": [],
   "source": [
    "a1 = [1,0]\n",
    "a2 = [1,2]\n",
    "a1ona2 = get1dProjection(a1,a2)\n",
    "a2ona1ona2 = get1dProjection(a1ona2,a1)\n"
   ]
  },
  {
   "cell_type": "code",
   "execution_count": null,
   "metadata": {},
   "outputs": [],
   "source": [
    "origin = [0], [0] # origin point\n",
    "plt.quiver(*origin, a1ona2,a2ona1ona2)\n",
    "plt.show()"
   ]
  },
  {
   "cell_type": "code",
   "execution_count": null,
   "metadata": {},
   "outputs": [],
   "source": [
    "p1 = getProjMat(a1)\n",
    "p2 = getProjMat(a2)\n",
    "print(p1)\n",
    "print(p2)\n",
    "print((p1@p2)@np.array(a1))\n"
   ]
  },
  {
   "cell_type": "code",
   "execution_count": null,
   "metadata": {},
   "outputs": [],
   "source": [
    "#first use A = getAmat(a1,...) to join basis vectors into a matrix\n",
    "a1 = [1,0]\n",
    "a2 = [1,2]\n",
    "A = getAmat(a1,a2)\n",
    "bigp = getNdProjMat(A)"
   ]
  },
  {
   "cell_type": "code",
   "execution_count": null,
   "metadata": {},
   "outputs": [],
   "source": [
    "A@(np.linalg.inv(A.T@(A)))@(A.T)"
   ]
  },
  {
   "cell_type": "code",
   "execution_count": null,
   "metadata": {},
   "outputs": [],
   "source": [
    "projMat = A@(np.linalg.inv(A.T@(A)))@(A.T)"
   ]
  },
  {
   "cell_type": "code",
   "execution_count": null,
   "metadata": {},
   "outputs": [],
   "source": [
    "#question 11a (p. 216)\n",
    "b = [2,3,4]\n",
    "A = np.array(np.mat('1 1; 0 1; 0 0'))\n",
    "projMat1 = getNdProjMat(A)\n",
    "proj = projMat1@b\n",
    "print(proj) #correct! (2,3,0)\n",
    "e = b-proj\n",
    "print(e) #correct (0,0,4)"
   ]
  },
  {
   "cell_type": "code",
   "execution_count": null,
   "metadata": {},
   "outputs": [],
   "source": [
    "#11b\n",
    "b = [4,4,6]\n",
    "A = np.array([[1,1],[1,1],[0,1]])\n",
    "projMat2 = getNdProjMat(A)\n",
    "proj = projMat2@b\n",
    "print(proj) #correct! (4,4,6)\n",
    "e = b-proj\n",
    "print(e) #correct (0,0,0) #result is full rank, so null space (e, orth to basis spanned by A) is just zero vector? "
   ]
  },
  {
   "cell_type": "code",
   "execution_count": null,
   "metadata": {},
   "outputs": [],
   "source": [
    "print(projMat1)\n",
    "print(projMat2)\n",
    "checkP2(projMat2)"
   ]
  },
  {
   "cell_type": "code",
   "execution_count": null,
   "metadata": {},
   "outputs": [],
   "source": [
    "A = getAmat([1,1,0], [2,0,1])\n",
    "projMat = getNdProjMat(A)[0]\n",
    "print(projMat) #seems right"
   ]
  },
  {
   "cell_type": "code",
   "execution_count": null,
   "metadata": {},
   "outputs": [],
   "source": [
    "#instead of bothering with the column space of A, get the left null space, i.e. literally ATx = 0, so the actual AT,\n",
    "#then get the identity matrix from P = I-Q. magic! \n",
    "Q = getProjMat([1, -1, 2])\n",
    "print(Q) #seems right\n",
    "P = np.identity(np.shape(projMat)[0]) - Q #seems right"
   ]
  },
  {
   "cell_type": "code",
   "execution_count": null,
   "metadata": {},
   "outputs": [],
   "source": []
  }
 ],
 "metadata": {
  "kernelspec": {
   "display_name": "Python 3",
   "language": "python",
   "name": "python3"
  },
  "language_info": {
   "codemirror_mode": {
    "name": "ipython",
    "version": 3
   },
   "file_extension": ".py",
   "mimetype": "text/x-python",
   "name": "python",
   "nbconvert_exporter": "python",
   "pygments_lexer": "ipython3",
   "version": "3.8.3"
  }
 },
 "nbformat": 4,
 "nbformat_minor": 2
}
