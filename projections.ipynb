{
 "cells": [
  {
   "cell_type": "markdown",
   "metadata": {},
   "source": [
    "## Problem set 4.2 Linear Algebra 5th Edition by Strang"
   ]
  },
  {
   "cell_type": "code",
   "execution_count": 268,
   "metadata": {},
   "outputs": [],
   "source": [
    "#in 1-D case, \n",
    "#makes use of p = x*a;\n",
    "#x = aTb/aTa\n",
    "#whereas projection matrix P = aaT/aTa\n",
    "#so that Pb = projection of b onto a "
   ]
  },
  {
   "cell_type": "code",
   "execution_count": 51,
   "metadata": {},
   "outputs": [],
   "source": [
    "import numpy as np\n",
    "from math import acos,degrees\n",
    "\n",
    "import matplotlib.pyplot as plt "
   ]
  },
  {
   "cell_type": "code",
   "execution_count": 48,
   "metadata": {},
   "outputs": [],
   "source": [
    "def getProjMat(a):\n",
    "    aat = np.outer(a,a)\n",
    "    ata = np.dot(a,a)\n",
    "    bigp = aat/ata\n",
    "    return bigp\n",
    "\n",
    "def get1dProjection(b,a, *doPrintProj):\n",
    "    if (type(a) is not np.ndarray):\n",
    "        a = np.array(a)\n",
    "    if (type(b) is not np.ndarray):\n",
    "        b = np.array(b)    \n",
    "        \n",
    "    ata = np.dot(a,a)\n",
    "    atb = np.dot(a,b)\n",
    "    x = atb/ata\n",
    "    littlep = x*a\n",
    "    \n",
    "    if doPrintProj:\n",
    "        print(littlep)\n",
    "    e = b-littlep\n",
    "    eta = np.dot(e,a)\n",
    "    \n",
    "    if eta > 1e-15:\n",
    "        print(eta)\n",
    "        raise Exception('a is somehow not orthogonal to e')\n",
    "    else:\n",
    "        print('a is indeed orthogonal to e. yay!')\n",
    "\n",
    "    if np.array_equal(littlep,b):\n",
    "        theta = getTheta(a,b)\n",
    "        if np.isin(theta,[0, 180]):\n",
    "            print('the two vectors are collinear (angle is 0 or 180 deg). projection did not change the input')\n",
    "        \n",
    "    return littlep\n",
    "\n",
    "def getTheta(a,b):\n",
    "    theta = math.degrees(math.acos(np.dot(a,b)/(np.linalg.norm(a)*np.linalg.norm(b))))\n",
    "    return theta\n",
    "\n",
    "def checkP2(projmat):\n",
    "    if np.allclose(projmat, projmat@projmat,1e-10000000):\n",
    "        print('all good, P=P^2 (by a tiny tolerance)')\n",
    "    else:\n",
    "        print('not a projection matrix, P=/=P^2')\n",
    "        print(projmat)\n",
    "        print(projmat@projmat)\n",
    "        \n",
    "def getAmat(*avecs):\n",
    "    Amat = np.column_stack(avecs)\n",
    "    if np.shape(Amat)[0] != np.prod(np.shape(avecs[0])):\n",
    "        raise Exception('concatenation failed')\n",
    "    else:\n",
    "        return Amat"
   ]
  },
  {
   "cell_type": "code",
   "execution_count": 134,
   "metadata": {},
   "outputs": [],
   "source": [
    "def getNdProjMat(A):\n",
    "    #find basis for A\n",
    "#    basis = getBasis(A)\n",
    "    projMat = A@(np.linalg.inv(A.T@(A)))@(A.T) #A(ATA)-1(AT)\n",
    "    if np.unique(np.shape(A)).size == 1 & np.allclose(projMat, np.identity(np.shape(A)[0])):\n",
    "        print('projection matrix is I, A is invertible so full rank, so projection stays in full dimensional space')\n",
    "    return projMat\n",
    "\n",
    "\n",
    "def getBasis(A):\n",
    "    \n",
    "    #row reduction??\n",
    "    return basis"
   ]
  },
  {
   "cell_type": "code",
   "execution_count": 11,
   "metadata": {},
   "outputs": [],
   "source": [
    "#project b onto a\n",
    "a = np.array([1,1,1]) \n",
    "b = np.array([1,2,2])"
   ]
  },
  {
   "cell_type": "code",
   "execution_count": 21,
   "metadata": {},
   "outputs": [],
   "source": [
    "#get their respective inner products (both just a number)\n",
    "ata = np.dot(a,a) \n",
    "atb = np.dot(a,b) #angle between a and b, proj = 0 if atb = 0 i.e. if a and b are orthogonal"
   ]
  },
  {
   "cell_type": "code",
   "execution_count": 22,
   "metadata": {},
   "outputs": [
    {
     "data": {
      "text/plain": [
       "1.6666666666666667"
      ]
     },
     "execution_count": 22,
     "metadata": {},
     "output_type": "execute_result"
    }
   ],
   "source": [
    "x = atb/ata #multiple of a (i.e. the length of the projected line)\n",
    "x"
   ]
  },
  {
   "cell_type": "code",
   "execution_count": 23,
   "metadata": {},
   "outputs": [
    {
     "data": {
      "text/plain": [
       "array([1.66666667, 1.66666667, 1.66666667])"
      ]
     },
     "execution_count": 23,
     "metadata": {},
     "output_type": "execute_result"
    }
   ],
   "source": [
    "p = x*a #scale a by the multiple in order to get the actual point closest to a\n",
    "p"
   ]
  },
  {
   "cell_type": "code",
   "execution_count": 24,
   "metadata": {},
   "outputs": [
    {
     "data": {
      "text/plain": [
       "array([-0.66666667,  0.33333333,  0.33333333])"
      ]
     },
     "execution_count": 24,
     "metadata": {},
     "output_type": "execute_result"
    }
   ],
   "source": [
    "e = b-p #vector of projection of b onto a\n",
    "e"
   ]
  },
  {
   "cell_type": "code",
   "execution_count": 35,
   "metadata": {},
   "outputs": [
    {
     "data": {
      "text/plain": [
       "True"
      ]
     },
     "execution_count": 35,
     "metadata": {},
     "output_type": "execute_result"
    }
   ],
   "source": [
    "#check that eTa is 0 (i.e. they are orthogonal, as they should always be)\n",
    "eta = np.dot(e,a)\n",
    "eta < 1e-100 #level of tolerance, computer precision too good.."
   ]
  },
  {
   "cell_type": "code",
   "execution_count": 3,
   "metadata": {},
   "outputs": [],
   "source": []
  },
  {
   "cell_type": "code",
   "execution_count": 113,
   "metadata": {},
   "outputs": [
    {
     "name": "stdout",
     "output_type": "stream",
     "text": [
      "[1.66666667 1.66666667 1.66666667]\n",
      "a is indeed orthogonal to e. yay!\n"
     ]
    }
   ],
   "source": [
    "b = [1,2,2]\n",
    "a = [1,1,1]\n",
    "proj, projmat = get1dProjection(b,a,True)\n"
   ]
  },
  {
   "cell_type": "code",
   "execution_count": 146,
   "metadata": {},
   "outputs": [
    {
     "name": "stdout",
     "output_type": "stream",
     "text": [
      "a is indeed orthogonal to e. yay!\n",
      "the two vectors are collinear (angle is 0 or 180 deg). projection did not change the input\n"
     ]
    }
   ],
   "source": [
    "b = [1,3,1]\n",
    "a = [-1,-3,-1]\n",
    "proj, projmat = get1dProjection(b,a)"
   ]
  },
  {
   "cell_type": "code",
   "execution_count": 147,
   "metadata": {},
   "outputs": [
    {
     "name": "stdout",
     "output_type": "stream",
     "text": [
      "a is indeed orthogonal to e. yay!\n",
      "a is indeed orthogonal to e. yay!\n",
      "the two vectors are collinear (angle is 0 or 180 deg). projection did not change the input\n"
     ]
    }
   ],
   "source": [
    "b1 = [1,2,2]\n",
    "a1 = [1,1,1]\n",
    "foo, bigp1 = get1dProjection(b1,a1)\n",
    "b2 = [1,3,1]\n",
    "a2 = [-1,-3,-1]\n",
    "foo, bigp2 = get1dProjection(b2,a2)"
   ]
  },
  {
   "cell_type": "code",
   "execution_count": 148,
   "metadata": {},
   "outputs": [
    {
     "name": "stdout",
     "output_type": "stream",
     "text": [
      "not a projection matrix, P=/=P^2\n",
      "[[0.42424242 0.60606061 0.42424242]\n",
      " [0.60606061 1.15151515 0.60606061]\n",
      " [0.42424242 0.60606061 0.42424242]]\n",
      "[[0.72727273 1.21212121 0.72727273]\n",
      " [1.21212121 2.06060606 1.21212121]\n",
      " [0.72727273 1.21212121 0.72727273]]\n"
     ]
    }
   ],
   "source": [
    "pplusp = bigp1+bigp2\n",
    "checkP2(pplusp)"
   ]
  },
  {
   "cell_type": "code",
   "execution_count": 162,
   "metadata": {},
   "outputs": [
    {
     "ename": "NameError",
     "evalue": "name 'get1dProjection' is not defined",
     "output_type": "error",
     "traceback": [
      "\u001b[0;31m---------------------------------------------------------------------------\u001b[0m",
      "\u001b[0;31mNameError\u001b[0m                                 Traceback (most recent call last)",
      "\u001b[0;32m<ipython-input-162-94d056006e51>\u001b[0m in \u001b[0;36m<module>\u001b[0;34m()\u001b[0m\n\u001b[1;32m      1\u001b[0m \u001b[0ma1\u001b[0m \u001b[0;34m=\u001b[0m \u001b[0;34m[\u001b[0m\u001b[0;34m-\u001b[0m\u001b[0;36m1\u001b[0m\u001b[0;34m,\u001b[0m\u001b[0;36m2\u001b[0m\u001b[0;34m,\u001b[0m\u001b[0;36m2\u001b[0m\u001b[0;34m]\u001b[0m\u001b[0;34m\u001b[0m\u001b[0m\n\u001b[0;32m----> 2\u001b[0;31m \u001b[0mfoo\u001b[0m\u001b[0;34m,\u001b[0m \u001b[0mbigp1\u001b[0m \u001b[0;34m=\u001b[0m \u001b[0mget1dProjection\u001b[0m\u001b[0;34m(\u001b[0m\u001b[0mb1\u001b[0m\u001b[0;34m,\u001b[0m\u001b[0ma1\u001b[0m\u001b[0;34m)\u001b[0m\u001b[0;34m\u001b[0m\u001b[0m\n\u001b[0m",
      "\u001b[0;31mNameError\u001b[0m: name 'get1dProjection' is not defined"
     ]
    }
   ],
   "source": [
    "a1 = [-1,2,2]\n",
    "foo, bigp1 = get1dProjection(b1,a1)"
   ]
  },
  {
   "cell_type": "code",
   "execution_count": 4,
   "metadata": {},
   "outputs": [],
   "source": [
    "a = [1,2,1]\n",
    "b = [1,1,1]"
   ]
  },
  {
   "cell_type": "code",
   "execution_count": 185,
   "metadata": {},
   "outputs": [],
   "source": [
    "a1 = [-1, 2, 2]\n",
    "bigp1 = getProjMat(a1)"
   ]
  },
  {
   "cell_type": "code",
   "execution_count": 186,
   "metadata": {},
   "outputs": [],
   "source": [
    "a2 = [2,2,-1]\n",
    "bigp2 = getProjMat(a2)"
   ]
  },
  {
   "cell_type": "code",
   "execution_count": 197,
   "metadata": {},
   "outputs": [
    {
     "name": "stdout",
     "output_type": "stream",
     "text": [
      "P1*P2 = zero matrix\n",
      "inputs are orthogonal\n"
     ]
    }
   ],
   "source": [
    "if np.allclose(bigp1@bigp2, np.zeros(np.shape(bigp1))):\n",
    "    print('P1*P2 = zero matrix')\n",
    "if np.isclose(np.dot(a1,a2),0):\n",
    "    print('inputs are orthogonal')"
   ]
  },
  {
   "cell_type": "code",
   "execution_count": 203,
   "metadata": {},
   "outputs": [
    {
     "name": "stdout",
     "output_type": "stream",
     "text": [
      "a is indeed orthogonal to e. yay!\n",
      "a is indeed orthogonal to e. yay!\n",
      "a is indeed orthogonal to e. yay!\n"
     ]
    }
   ],
   "source": [
    "b = [1,0,0]\n",
    "p1 = get1dProjection(b,a1)\n",
    "p2 = get1dProjection(b,a2)\n",
    "a3 = [2,-1,2]\n",
    "p3 = get1dProjection(b,a3)"
   ]
  },
  {
   "cell_type": "code",
   "execution_count": 223,
   "metadata": {},
   "outputs": [
    {
     "name": "stdout",
     "output_type": "stream",
     "text": [
      "[ 0.11111111 -0.22222222 -0.22222222]\n",
      "[ 0.44444444  0.44444444 -0.22222222]\n",
      "[ 0.44444444 -0.22222222  0.44444444]\n",
      "chain of projections returned to original vector\n"
     ]
    }
   ],
   "source": [
    "print(p1)\n",
    "print(p2)\n",
    "print(p3)\n",
    "\n",
    "if np.allclose(b,p1+p2+p3):\n",
    "    print('chain of projections returned to original vector')"
   ]
  },
  {
   "cell_type": "code",
   "execution_count": 209,
   "metadata": {},
   "outputs": [],
   "source": [
    "bigp3 = getProjMat(a3)"
   ]
  },
  {
   "cell_type": "code",
   "execution_count": 224,
   "metadata": {},
   "outputs": [
    {
     "name": "stdout",
     "output_type": "stream",
     "text": [
      "sum of projection matrices is the identity\n"
     ]
    }
   ],
   "source": [
    "if np.allclose(bigp1+bigp2+bigp3,np.identity(np.shape(bigp3)[0])):\n",
    "    print('sum of projection matrices is the identity')"
   ]
  },
  {
   "cell_type": "code",
   "execution_count": 232,
   "metadata": {},
   "outputs": [
    {
     "name": "stdout",
     "output_type": "stream",
     "text": [
      "these three vectors are pairwise perpendicular\n"
     ]
    },
    {
     "data": {
      "text/plain": [
       "array([[-1,  2,  2],\n",
       "       [ 2,  2, -1],\n",
       "       [ 2, -1,  2]])"
      ]
     },
     "execution_count": 232,
     "metadata": {},
     "output_type": "execute_result"
    }
   ],
   "source": [
    "if np.dot(a1,a2) == np.dot(a2,a3) == np.dot(a1,a3) == 0:\n",
    "    print('these three vectors are pairwise perpendicular')\n",
    "    \n",
    "getAmat(a1,a2,a3)"
   ]
  },
  {
   "cell_type": "code",
   "execution_count": 248,
   "metadata": {},
   "outputs": [
    {
     "name": "stdout",
     "output_type": "stream",
     "text": [
      "a is indeed orthogonal to e. yay!\n"
     ]
    }
   ],
   "source": [
    "b = [1,1]\n",
    "a1 = [1,0]\n",
    "p1 = get1dProjection(b,a1)"
   ]
  },
  {
   "cell_type": "code",
   "execution_count": 249,
   "metadata": {},
   "outputs": [
    {
     "name": "stdout",
     "output_type": "stream",
     "text": [
      "a is indeed orthogonal to e. yay!\n"
     ]
    }
   ],
   "source": [
    "a2 = [1,2]\n",
    "p2 = get1dProjection(b,a2)"
   ]
  },
  {
   "cell_type": "code",
   "execution_count": 264,
   "metadata": {},
   "outputs": [
    {
     "name": "stdout",
     "output_type": "stream",
     "text": [
      "sum of projections on b do not return to b (as expected in this problem)\n"
     ]
    }
   ],
   "source": [
    "if not np.allclose(p1+p2,b): \n",
    "    print('sum of projections on b do not return to b (as expected in this problem)')"
   ]
  },
  {
   "cell_type": "code",
   "execution_count": 254,
   "metadata": {},
   "outputs": [
    {
     "data": {
      "image/png": "[encoded data removed]",
      "text/plain": [
       "<Figure size 432x288 with 1 Axes>"
      ]
     },
     "metadata": {},
     "output_type": "display_data"
    }
   ],
   "source": [
    "origin = [0], [0] # origin point\n",
    "plt.quiver(*origin, p1,p2)\n",
    "plt.show()"
   ]
  },
  {
   "cell_type": "code",
   "execution_count": 266,
   "metadata": {},
   "outputs": [
    {
     "name": "stdout",
     "output_type": "stream",
     "text": [
      "vectors are not orthogonal (as expected in this problem)\n"
     ]
    }
   ],
   "source": [
    "theta = getTheta(a1,a2) #angle between a1 and a2 - they are not orthogonal \n",
    "if np.dot(a1,a2)!= 0 & ~np.isclose(theta,90):\n",
    "    print('vectors are not orthogonal (as expected in this problem)')"
   ]
  },
  {
   "cell_type": "code",
   "execution_count": 115,
   "metadata": {},
   "outputs": [],
   "source": []
  },
  {
   "cell_type": "code",
   "execution_count": 14,
   "metadata": {},
   "outputs": [],
   "source": []
  },
  {
   "cell_type": "code",
   "execution_count": 28,
   "metadata": {},
   "outputs": [
    {
     "data": {
      "text/plain": [
       "array([[0.2, 0. ],\n",
       "       [0.4, 0. ]])"
      ]
     },
     "execution_count": 28,
     "metadata": {},
     "output_type": "execute_result"
    }
   ],
   "source": [
    "getProjMat(a2)*a1"
   ]
  },
  {
   "cell_type": "code",
   "execution_count": 75,
   "metadata": {},
   "outputs": [
    {
     "name": "stdout",
     "output_type": "stream",
     "text": [
      "a is indeed orthogonal to e. yay!\n",
      "a is indeed orthogonal to e. yay!\n"
     ]
    },
    {
     "data": {
      "text/plain": [
       "array([0.2, 0. ])"
      ]
     },
     "execution_count": 75,
     "metadata": {},
     "output_type": "execute_result"
    }
   ],
   "source": [
    "a1 = [1,0]\n",
    "a2 = [1,2]\n",
    "a1ona2 = get1dProjection(a1,a2)\n",
    "a2ona1ona2 = get1dProjection(a1ona2,a1)\n"
   ]
  },
  {
   "cell_type": "code",
   "execution_count": 67,
   "metadata": {},
   "outputs": [
    {
     "data": {
      "image/png": "[encoded data removed]",
      "text/plain": [
       "<Figure size 432x288 with 1 Axes>"
      ]
     },
     "metadata": {},
     "output_type": "display_data"
    }
   ],
   "source": [
    "origin = [0], [0] # origin point\n",
    "plt.quiver(*origin, a1ona2,a2ona1ona2)\n",
    "plt.show()"
   ]
  },
  {
   "cell_type": "code",
   "execution_count": 114,
   "metadata": {},
   "outputs": [
    {
     "name": "stdout",
     "output_type": "stream",
     "text": [
      "[[1. 0.]\n",
      " [0. 0.]]\n",
      "[[0.2 0.4]\n",
      " [0.4 0.8]]\n",
      "[0.2 0. ]\n"
     ]
    }
   ],
   "source": [
    "p1 = getProjMat(a1)\n",
    "p2 = getProjMat(a2)\n",
    "print(p1)\n",
    "print(p2)\n",
    "print((p1@p2)@np.array(a1))\n"
   ]
  },
  {
   "cell_type": "code",
   "execution_count": 135,
   "metadata": {},
   "outputs": [
    {
     "name": "stdout",
     "output_type": "stream",
     "text": [
      "projection matrix is I, A is invertible so full rank, so projection stays in full dimensional space\n"
     ]
    }
   ],
   "source": [
    "#first use A = getAmat(a1,...) to join basis vectors into a matrix\n",
    "a1 = [1,0]\n",
    "a2 = [1,2]\n",
    "A = getAmat(a1,a2)\n",
    "bigp = getNdProjMat(A)"
   ]
  },
  {
   "cell_type": "code",
   "execution_count": 123,
   "metadata": {},
   "outputs": [
    {
     "data": {
      "text/plain": [
       "array([[1., 0.],\n",
       "       [0., 1.]])"
      ]
     },
     "execution_count": 123,
     "metadata": {},
     "output_type": "execute_result"
    }
   ],
   "source": [
    "A@(np.linalg.inv(A.T@(A)))@(A.T)"
   ]
  },
  {
   "cell_type": "code",
   "execution_count": null,
   "metadata": {},
   "outputs": [],
   "source": [
    "projMat = A@(np.linalg.inv(A.T@(A)))@(A.T)"
   ]
  },
  {
   "cell_type": "code",
   "execution_count": 179,
   "metadata": {},
   "outputs": [
    {
     "name": "stdout",
     "output_type": "stream",
     "text": [
      "[2. 3. 0.]\n",
      "[0. 0. 4.]\n"
     ]
    }
   ],
   "source": [
    "#question 11a (p. 216)\n",
    "b = [2,3,4]\n",
    "A = np.array(np.mat('1 1; 0 1; 0 0'))\n",
    "projMat1 = getNdProjMat(A)\n",
    "proj = projMat1@b\n",
    "print(proj) #correct! (2,3,0)\n",
    "e = b-proj\n",
    "print(e) #correct (0,0,4)"
   ]
  },
  {
   "cell_type": "code",
   "execution_count": 177,
   "metadata": {},
   "outputs": [
    {
     "name": "stdout",
     "output_type": "stream",
     "text": [
      "[4. 4. 6.]\n",
      "[0. 0. 0.]\n"
     ]
    }
   ],
   "source": [
    "#11b\n",
    "b = [4,4,6]\n",
    "A = np.array([[1,1],[1,1],[0,1]])\n",
    "projMat2 = getNdProjMat(A)\n",
    "proj = projMat2@b\n",
    "print(proj) #correct! (4,4,6)\n",
    "e = b-proj\n",
    "print(e) #correct (0,0,0) #result is full rank, so null space (e, orth to basis spanned by A) is just zero vector? "
   ]
  },
  {
   "cell_type": "code",
   "execution_count": 183,
   "metadata": {},
   "outputs": [
    {
     "name": "stdout",
     "output_type": "stream",
     "text": [
      "[[1. 0. 0.]\n",
      " [0. 1. 0.]\n",
      " [0. 0. 0.]]\n",
      "[[0.5 0.5 0. ]\n",
      " [0.5 0.5 0. ]\n",
      " [0.  0.  1. ]]\n",
      "all good, P=P^2 (by a tiny tolerance)\n"
     ]
    }
   ],
   "source": [
    "print(projMat1)\n",
    "print(projMat2)\n",
    "checkP2(projMat2)"
   ]
  },
  {
   "cell_type": "code",
   "execution_count": 189,
   "metadata": {},
   "outputs": [
    {
     "name": "stdout",
     "output_type": "stream",
     "text": [
      "[[ 0.83333333  0.16666667  0.33333333]\n",
      " [ 0.16666667  0.83333333 -0.33333333]\n",
      " [ 0.33333333 -0.33333333  0.33333333]]\n"
     ]
    }
   ],
   "source": [
    "A = getAmat([1,1,0], [2,0,1])\n",
    "projMat = getNdProjMat(A)[0]\n",
    "print(projMat) #seems right"
   ]
  },
  {
   "cell_type": "code",
   "execution_count": 198,
   "metadata": {},
   "outputs": [
    {
     "name": "stdout",
     "output_type": "stream",
     "text": [
      "[[ 0.16666667 -0.16666667  0.33333333]\n",
      " [-0.16666667  0.16666667 -0.33333333]\n",
      " [ 0.33333333 -0.33333333  0.66666667]]\n"
     ]
    }
   ],
   "source": [
    "#instead of bothering with the column space of A, get the left null space, i.e. literally ATx = 0, so the actual AT,\n",
    "#then get the identity matrix from P = I-Q. magic! \n",
    "Q = getProjMat([1, -1, 2])\n",
    "print(Q) #seems right\n",
    "P = np.identity(np.shape(projMat)[0]) - Q #seems right"
   ]
  },
  {
   "cell_type": "code",
   "execution_count": null,
   "metadata": {},
   "outputs": [],
   "source": []
  }
 ],
 "metadata": {
  "kernelspec": {
   "display_name": "Python 3",
   "language": "python",
   "name": "python3"
  },
  "language_info": {
   "codemirror_mode": {
    "name": "ipython",
    "version": 3
   },
   "file_extension": ".py",
   "mimetype": "text/x-python",
   "name": "python",
   "nbconvert_exporter": "python",
   "pygments_lexer": "ipython3",
   "version": "3.6.4"
  }
 },
 "nbformat": 4,
 "nbformat_minor": 2
}
